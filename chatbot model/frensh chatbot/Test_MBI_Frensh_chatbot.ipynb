{
 "cells": [
  {
   "cell_type": "code",
   "execution_count": 2,
   "id": "9f281291",
   "metadata": {},
   "outputs": [],
   "source": [
    "import random\n",
    "import json\n",
    "import pickle\n",
    "import numpy as np\n",
    "import nltk\n",
    "from nltk.stem import WordNetLemmatizer\n",
    "from keras.models import load_model\n",
    "from nltk.stem import SnowballStemmer"
   ]
  },
  {
   "cell_type": "code",
   "execution_count": 3,
   "id": "48b39584",
   "metadata": {},
   "outputs": [],
   "source": [
    "lemmatizer = WordNetLemmatizer()\n",
    "intents = json.loads(open('mbi_questions_frensh.json', 'r', encoding=\"utf8\").read())\n",
    "\n",
    "words = pickle.load(open('words.pkl', 'rb'))\n",
    "classes = pickle.load(open('classes.pkl', 'rb'))\n",
    "model = load_model('chatbot_model_fr.keras', compile=False)"
   ]
  },
  {
   "cell_type": "code",
   "execution_count": 4,
   "id": "e9b305d6",
   "metadata": {},
   "outputs": [],
   "source": [
    "def clean_up_sentence(sentence):\n",
    "    # Convert to lowercase and tokenize the sentence\n",
    "    sentence_words = nltk.word_tokenize(sentence.lower())\n",
    "    sentence_words = [lemmatizer.lemmatize(word) for word in sentence_words]\n",
    "    return sentence_words\n",
    "\n",
    "def bag_of_words(sentence):\n",
    "    # Generate a bag of words for the sentence after cleaning and lowercasing\n",
    "    sentence_words = clean_up_sentence(sentence)\n",
    "    bag = [0] * len(words)\n",
    "    for w in sentence_words:\n",
    "        for i, word in enumerate(words):\n",
    "            if word == w:\n",
    "                bag[i] = 1\n",
    "    return np.array(bag)\n",
    "\n",
    "def predict_class(sentence):\n",
    "    # Use the bag of words model to predict the class with lowercase input\n",
    "    bow = bag_of_words(sentence)\n",
    "    res = model.predict(np.array([bow]))[0]\n",
    "    ERROR_THRESHOLD = 0.25\n",
    "    results = [[i, r] for i, r in enumerate(res) if r > ERROR_THRESHOLD]\n",
    "\n",
    "    # Sort results by probability in descending order\n",
    "    results.sort(key=lambda x: x[1], reverse=True)\n",
    "    return_list = []\n",
    "    for r in results:\n",
    "        return_list.append({'intent': classes[r[0]], 'probability': str(r[1])})\n",
    "    return return_list\n",
    "\n",
    "def get_response(intents_list, intents_json):\n",
    "    # Get the response for the top intent\n",
    "    tag = intents_list[0]['intent']\n",
    "    list_of_intents = intents_json['intents']\n",
    "    for i in list_of_intents:\n",
    "        if i['tag'] == tag:\n",
    "            result = random.choice(i['responses'])\n",
    "            break\n",
    "    return result"
   ]
  },
  {
   "cell_type": "code",
   "execution_count": 6,
   "id": "be3335c6",
   "metadata": {},
   "outputs": [
    {
     "name": "stdout",
     "output_type": "stream",
     "text": [
      "GO! Le chatbot se commence!\n",
      "bonjour\n",
      "1/1 [==============================] - 0s 31ms/step\n",
      "Bonjour ! Comment puis-je vous aider aujourd'hui ?\n",
      "Qu'est ce que MBI ?\n",
      "1/1 [==============================] - 0s 26ms/step\n",
      "Le réseau MBI est une agence de développement spécialisée basée à Patti, en Italie. Elle est présente dans 6 pays (Royaume-Uni, Italie, France, Grèce, Roumanie et Maroc) et propose une large gamme de services. Ses domaines d'expertise incluent le marketing digital, la conception de sites web, l'optimisation SEO ainsi que le développement web et mobile.\n",
      "Quels avantages supplémentaires le réseau MBI offre-t-il aux clients?\n",
      "1/1 [==============================] - 0s 29ms/step\n",
      "Le réseau MBI propose des solutions de marketing digital et de SEO pour votre site web. Votre site bénéficiera d'un design moderne et réactif, adapté à tous les écrans. Nous proposons également des solutions e-commerce pour simplifier les processus, automatiser les flux de travail et intégrer les paiements.\n",
      "merci, au revoir\n",
      "Merci et bonne journée\n"
     ]
    }
   ],
   "source": [
    "print(\"GO! Le chatbot se commence!\")\n",
    "\n",
    "while True:\n",
    "    message = input(\"\")\n",
    "    \n",
    "    if message.lower() == \"merci, au revoir\":\n",
    "        print(\"Merci et bonne journée\")\n",
    "        break\n",
    "    \n",
    "    ints = predict_class(message)\n",
    "    if ints:  # If an intent is detected\n",
    "        res = get_response(ints, intents)\n",
    "    else:\n",
    "        res = \"J'ai pas compris la question, merci de la poser autrement.\"\n",
    "    print(res)"
   ]
  },
  {
   "cell_type": "code",
   "execution_count": 7,
   "id": "17b1040e",
   "metadata": {},
   "outputs": [
    {
     "data": {
      "text/plain": [
       "\"Le réseau MBI propose des solutions de marketing digital et de SEO pour votre site web. Votre site bénéficiera d'un design moderne et réactif, adapté à tous les écrans. Nous proposons également des solutions e-commerce pour simplifier les processus, automatiser les flux de travail et intégrer les paiements.\""
      ]
     },
     "execution_count": 7,
     "metadata": {},
     "output_type": "execute_result"
    }
   ],
   "source": [
    "res"
   ]
  },
  {
   "cell_type": "code",
   "execution_count": null,
   "id": "2240cc2c",
   "metadata": {},
   "outputs": [],
   "source": []
  }
 ],
 "metadata": {
  "kernelspec": {
   "display_name": "Python 3 (ipykernel)",
   "language": "python",
   "name": "python3"
  },
  "language_info": {
   "codemirror_mode": {
    "name": "ipython",
    "version": 3
   },
   "file_extension": ".py",
   "mimetype": "text/x-python",
   "name": "python",
   "nbconvert_exporter": "python",
   "pygments_lexer": "ipython3",
   "version": "3.8.8"
  }
 },
 "nbformat": 4,
 "nbformat_minor": 5
}
