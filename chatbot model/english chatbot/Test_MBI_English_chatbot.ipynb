{
 "cells": [
  {
   "cell_type": "code",
   "execution_count": 8,
   "id": "9f281291",
   "metadata": {},
   "outputs": [],
   "source": [
    "import random\n",
    "import json\n",
    "import pickle\n",
    "import numpy as np\n",
    "import nltk\n",
    "from nltk.stem import WordNetLemmatizer\n",
    "from keras.models import load_model\n",
    "from nltk.stem import SnowballStemmer"
   ]
  },
  {
   "cell_type": "code",
   "execution_count": 9,
   "id": "48b39584",
   "metadata": {},
   "outputs": [],
   "source": [
    "lemmatizer = WordNetLemmatizer()\n",
    "intents = json.loads(open('mbi_questions_english.json').read())\n",
    "\n",
    "words = pickle.load(open('words.pkl', 'rb'))\n",
    "classes = pickle.load(open('classes.pkl', 'rb'))\n",
    "# Load the model without compiling it\n",
    "model = load_model('chatbot_model_eng.keras', compile=False)"
   ]
  },
  {
   "cell_type": "code",
   "execution_count": 10,
   "id": "e9b305d6",
   "metadata": {},
   "outputs": [],
   "source": [
    "def clean_up_sentence(sentence):\n",
    "    # Convert to lowercase and tokenize the sentence\n",
    "    sentence_words = nltk.word_tokenize(sentence.lower())\n",
    "    sentence_words = [lemmatizer.lemmatize(word) for word in sentence_words]\n",
    "    return sentence_words\n",
    "\n",
    "def bag_of_words(sentence):\n",
    "    # Generate a bag of words for the sentence after cleaning and lowercasing\n",
    "    sentence_words = clean_up_sentence(sentence)\n",
    "    bag = [0] * len(words)\n",
    "    for w in sentence_words:\n",
    "        for i, word in enumerate(words):\n",
    "            if word == w:\n",
    "                bag[i] = 1\n",
    "    return np.array(bag)\n",
    "\n",
    "def predict_class(sentence):\n",
    "    # Use the bag of words model to predict the class with lowercase input\n",
    "    bow = bag_of_words(sentence)\n",
    "    res = model.predict(np.array([bow]))[0]\n",
    "    ERROR_THRESHOLD = 0.25\n",
    "    results = [[i, r] for i, r in enumerate(res) if r > ERROR_THRESHOLD]\n",
    "\n",
    "    # Sort results by probability in descending order\n",
    "    results.sort(key=lambda x: x[1], reverse=True)\n",
    "    return_list = []\n",
    "    for r in results:\n",
    "        return_list.append({'intent': classes[r[0]], 'probability': str(r[1])})\n",
    "    return return_list\n",
    "\n",
    "def get_response(intents_list, intents_json):\n",
    "    # Get the response for the top intent\n",
    "    tag = intents_list[0]['intent']\n",
    "    list_of_intents = intents_json['intents']\n",
    "    for i in list_of_intents:\n",
    "        if i['tag'] == tag:\n",
    "            result = random.choice(i['responses'])\n",
    "            break\n",
    "    return result"
   ]
  },
  {
   "cell_type": "code",
   "execution_count": 11,
   "id": "be3335c6",
   "metadata": {},
   "outputs": [
    {
     "name": "stdout",
     "output_type": "stream",
     "text": [
      "GO! Bot is running!\n",
      "Hi\n",
      "1/1 [==============================] - 0s 126ms/step\n",
      "Hello! Let me know if you have any questions.\n",
      "what is MBI ?\n",
      "1/1 [==============================] - 0s 33ms/step\n",
      "The MBI network is a specialized development agency based in Patti, Italy. It is present in 6 countries (United Kingdom, Italy, France, Greece, Romania, and Morocco) and offers a wide range of services. Its areas of expertise include digital marketing, web design, SEO optimization, as well as web and mobile development.\n",
      "good bye\n",
      "Chat stopped. Goodbye!\n"
     ]
    }
   ],
   "source": [
    "print(\"GO! Bot is running!\")\n",
    "\n",
    "while True:\n",
    "    message = input(\"\")\n",
    "    \n",
    "    if message.lower() == \"good bye\":\n",
    "        print(\"Chat stopped. Goodbye!\")\n",
    "        break\n",
    "    \n",
    "    ints = predict_class(message)\n",
    "    if ints:  # If an intent is detected\n",
    "        res = get_response(ints, intents)\n",
    "    else:\n",
    "        res = \"I don't understand your question, please try again.\"\n",
    "    print(res)"
   ]
  },
  {
   "cell_type": "code",
   "execution_count": 12,
   "id": "17b1040e",
   "metadata": {},
   "outputs": [
    {
     "data": {
      "text/plain": [
       "'The MBI network is a specialized development agency based in Patti, Italy. It is present in 6 countries (United Kingdom, Italy, France, Greece, Romania, and Morocco) and offers a wide range of services. Its areas of expertise include digital marketing, web design, SEO optimization, as well as web and mobile development.'"
      ]
     },
     "execution_count": 12,
     "metadata": {},
     "output_type": "execute_result"
    }
   ],
   "source": [
    "res"
   ]
  },
  {
   "cell_type": "code",
   "execution_count": null,
   "id": "085d43dd",
   "metadata": {},
   "outputs": [],
   "source": []
  }
 ],
 "metadata": {
  "kernelspec": {
   "display_name": "Python 3 (ipykernel)",
   "language": "python",
   "name": "python3"
  },
  "language_info": {
   "codemirror_mode": {
    "name": "ipython",
    "version": 3
   },
   "file_extension": ".py",
   "mimetype": "text/x-python",
   "name": "python",
   "nbconvert_exporter": "python",
   "pygments_lexer": "ipython3",
   "version": "3.8.8"
  }
 },
 "nbformat": 4,
 "nbformat_minor": 5
}
